{
 "cells": [
  {
   "cell_type": "code",
   "execution_count": 2,
   "id": "07e60d0a",
   "metadata": {},
   "outputs": [
    {
     "name": "stdout",
     "output_type": "stream",
     "text": [
      "Минимальная энергия: 1e-3\n",
      "windows (w) or linux (l): w\n"
     ]
    }
   ],
   "source": [
    "import sys\n",
    "import time\n",
    "import math\n",
    "sys.path.insert(0, r'/home/danis/work/python_works/gamma_4/Scripts')\n",
    "sys.path.insert(0, r'D:\\Учеба\\Практика\\Диплом\\gamma_4\\Scripts')\n",
    "import numpy as np\n",
    "import pandas as pd\n",
    "from materials import*\n",
    "import matplotlib.pyplot as plt"
   ]
  },
  {
   "cell_type": "code",
   "execution_count": null,
   "id": "769f1fca",
   "metadata": {},
   "outputs": [],
   "source": []
  }
 ],
 "metadata": {
  "kernelspec": {
   "display_name": "Python 3 (ipykernel)",
   "language": "python",
   "name": "python3"
  },
  "language_info": {
   "codemirror_mode": {
    "name": "ipython",
    "version": 3
   },
   "file_extension": ".py",
   "mimetype": "text/x-python",
   "name": "python",
   "nbconvert_exporter": "python",
   "pygments_lexer": "ipython3",
   "version": "3.10.5"
  }
 },
 "nbformat": 4,
 "nbformat_minor": 5
}
