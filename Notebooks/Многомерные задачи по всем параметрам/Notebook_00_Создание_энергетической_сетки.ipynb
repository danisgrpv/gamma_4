{
 "cells": [
  {
   "cell_type": "code",
   "execution_count": 1,
   "id": "a4759049",
   "metadata": {},
   "outputs": [],
   "source": [
    "import sys\n",
    "import math\n",
    "import numpy as np\n",
    "import pandas as pd\n",
    "import matplotlib.pyplot as plt\n",
    "sys.path.insert(0, r'D:\\Учеба\\Практика\\Диплом\\gamma\\gamma_4\\Scripts')\n",
    "sys.path.insert(0, r'/home/danis/work/python_works/gamma_4/Scripts')\n",
    "from cross_sections_processing import dataframe_to_list, edge_to_dict, interpolate_cs_on_general_grid, to_log"
   ]
  },
  {
   "cell_type": "code",
   "execution_count": 2,
   "id": "d5f697a8",
   "metadata": {},
   "outputs": [],
   "source": [
    "WINDOWS_CS_PATH = r'D:\\Учеба\\Практика\\Диплом\\gamma\\gamma_4\\Scripts'"
   ]
  },
  {
   "cell_type": "code",
   "execution_count": 4,
   "id": "355e3255",
   "metadata": {},
   "outputs": [],
   "source": [
    "# Считывание данных\n",
    "cross_sections_df = pd.read_excel(r'D:\\Учеба\\Практика\\Диплом\\gamma\\gamma_4\\Scripts\\DATA\\cross_sections.xlsx', \n",
    "                                  header=None, sheet_name=['TOTAL', 'ABSORBT'], dtype=np.float64)\n",
    "\n",
    "total = cross_sections_df['TOTAL']\n",
    "absorbt = cross_sections_df['ABSORBT']"
   ]
  },
  {
   "cell_type": "code",
   "execution_count": 5,
   "id": "11e52b53",
   "metadata": {},
   "outputs": [],
   "source": [
    "CS_total = dataframe_to_list(total, 'c')\n",
    "CS_absorbt = dataframe_to_list(absorbt, 'c')\n",
    "CS_init_mesh = dataframe_to_list(total, 'e')"
   ]
  },
  {
   "cell_type": "code",
   "execution_count": 20,
   "id": "938185a2",
   "metadata": {},
   "outputs": [],
   "source": [
    "# Список со списками энергий каждого элемента\n",
    "energies = dataframe_to_list(total, 'e')\n",
    "\n",
    "min_en = 1e-3\n",
    "\n",
    "# Создание списка с энергиями всех скачков\n",
    "edge_energies = []\n",
    "\n",
    "for list_ in energies:\n",
    "    for energy in list_:\n",
    "        if energy not in edge_energies:\n",
    "            if energy >= min_en:\n",
    "                if list_.count(energy) == 2:\n",
    "                    edge_energies.append(energy)\n",
    "                    \n",
    "edge_energies.sort()"
   ]
  },
  {
   "cell_type": "code",
   "execution_count": 21,
   "id": "c234fff9",
   "metadata": {},
   "outputs": [],
   "source": [
    "# Создание основной сетки энергий\n",
    "base_enegries = [round(((edge_energies[i-1] + edge_energies[i]) / 2), 7) for i in range(len(edge_energies))]"
   ]
  },
  {
   "cell_type": "code",
   "execution_count": 47,
   "id": "d68e3d03",
   "metadata": {},
   "outputs": [],
   "source": [
    "tail_energies = np.linspace(edge_energies[-1], 2, 310)"
   ]
  },
  {
   "cell_type": "code",
   "execution_count": 50,
   "id": "fb3b95f1",
   "metadata": {},
   "outputs": [],
   "source": [
    "# Объединение основных энергий и энергий К скачков\n",
    "general_grid = []\n",
    "general_grid.extend(edge_energies)\n",
    "general_grid.extend(edge_energies)\n",
    "\n",
    "for val in base_enegries:\n",
    "    if val not in general_grid:\n",
    "        general_grid.append(val)\n",
    "        \n",
    "for val in tail_energies:\n",
    "    if val not in general_grid:\n",
    "        general_grid.append(val)\n",
    "        \n",
    "general_grid.sort()"
   ]
  },
  {
   "cell_type": "code",
   "execution_count": 51,
   "id": "74a16f3d",
   "metadata": {},
   "outputs": [
    {
     "data": {
      "text/plain": [
       "1998"
      ]
     },
     "execution_count": 51,
     "metadata": {},
     "output_type": "execute_result"
    }
   ],
   "source": [
    "len(general_grid)"
   ]
  },
  {
   "cell_type": "code",
   "execution_count": 52,
   "id": "d85847c1",
   "metadata": {},
   "outputs": [],
   "source": [
    "def interpolate_with_edge(dataframe, general_grid):\n",
    "    materials = dataframe_to_list(dataframe)\n",
    "    gg = general_grid\n",
    "    ics = interpolate_cs_on_general_grid(dataframe, gg)\n",
    "    \n",
    "    ggl = [math.log(val) for val in gg]\n",
    "    dfl = to_log(dataframe)\n",
    "    icsl = interpolate_cs_on_general_grid(dfl, ggl)\n",
    "    \n",
    "    for list_ in icsl:\n",
    "        for p, val in enumerate(list_):\n",
    "            list_[p] = math.exp(val)\n",
    "            \n",
    "    for i in range(len(materials)):\n",
    "        print(i)\n",
    "        for j in range(len(edge_to_dict(i, 'energy', dataframe))):\n",
    "            if edge_to_dict(i, 'energy', dataframe)[j] >= min_en:\n",
    "                icsl[i][gg.index(edge_to_dict(i, 'energy', dataframe)[j])] = edge_to_dict(i, 'left', dataframe)[j]\n",
    "                icsl[i][gg.index(edge_to_dict(i, 'energy', dataframe)[j]) + 1] = edge_to_dict(i, 'right', dataframe)[j]\n",
    "                \n",
    "    return icsl"
   ]
  },
  {
   "cell_type": "code",
   "execution_count": 53,
   "id": "2071f223",
   "metadata": {
    "scrolled": true
   },
   "outputs": [
    {
     "name": "stdout",
     "output_type": "stream",
     "text": [
      "0\n",
      "1\n",
      "2\n",
      "3\n",
      "4\n",
      "5\n",
      "6\n",
      "7\n",
      "8\n",
      "9\n",
      "10\n",
      "11\n",
      "12\n",
      "13\n",
      "14\n",
      "15\n",
      "16\n",
      "17\n",
      "18\n",
      "19\n",
      "20\n",
      "21\n",
      "22\n",
      "23\n",
      "24\n",
      "25\n",
      "26\n",
      "27\n",
      "28\n",
      "29\n",
      "30\n",
      "31\n",
      "32\n",
      "33\n",
      "34\n",
      "35\n",
      "36\n",
      "37\n",
      "38\n",
      "39\n",
      "40\n",
      "41\n",
      "42\n",
      "43\n",
      "44\n",
      "45\n",
      "46\n",
      "47\n",
      "48\n",
      "49\n",
      "50\n",
      "51\n",
      "52\n",
      "53\n",
      "54\n",
      "55\n",
      "56\n",
      "57\n",
      "58\n",
      "59\n",
      "60\n",
      "61\n",
      "62\n",
      "63\n",
      "64\n",
      "65\n",
      "66\n",
      "67\n",
      "68\n",
      "69\n",
      "70\n",
      "71\n",
      "72\n",
      "73\n",
      "74\n",
      "75\n",
      "76\n",
      "77\n",
      "78\n",
      "79\n",
      "80\n",
      "81\n",
      "82\n",
      "83\n",
      "84\n",
      "85\n",
      "86\n",
      "87\n",
      "88\n",
      "89\n",
      "90\n",
      "91\n",
      "92\n",
      "93\n",
      "94\n",
      "95\n",
      "96\n",
      "97\n",
      "98\n",
      "99\n",
      "0\n",
      "1\n",
      "2\n",
      "3\n",
      "4\n",
      "5\n",
      "6\n",
      "7\n",
      "8\n",
      "9\n",
      "10\n",
      "11\n",
      "12\n",
      "13\n",
      "14\n",
      "15\n",
      "16\n",
      "17\n",
      "18\n",
      "19\n",
      "20\n",
      "21\n",
      "22\n",
      "23\n",
      "24\n",
      "25\n",
      "26\n",
      "27\n",
      "28\n",
      "29\n",
      "30\n",
      "31\n",
      "32\n",
      "33\n",
      "34\n",
      "35\n",
      "36\n",
      "37\n",
      "38\n",
      "39\n",
      "40\n",
      "41\n",
      "42\n",
      "43\n",
      "44\n",
      "45\n",
      "46\n",
      "47\n",
      "48\n",
      "49\n",
      "50\n",
      "51\n",
      "52\n",
      "53\n",
      "54\n",
      "55\n",
      "56\n",
      "57\n",
      "58\n",
      "59\n",
      "60\n",
      "61\n",
      "62\n",
      "63\n",
      "64\n",
      "65\n",
      "66\n",
      "67\n",
      "68\n",
      "69\n",
      "70\n",
      "71\n",
      "72\n",
      "73\n",
      "74\n",
      "75\n",
      "76\n",
      "77\n",
      "78\n",
      "79\n",
      "80\n",
      "81\n",
      "82\n",
      "83\n",
      "84\n",
      "85\n",
      "86\n",
      "87\n",
      "88\n",
      "89\n",
      "90\n",
      "91\n",
      "92\n",
      "93\n",
      "94\n",
      "95\n",
      "96\n",
      "97\n",
      "98\n",
      "99\n"
     ]
    }
   ],
   "source": [
    "cs_total = interpolate_with_edge(total, general_grid)\n",
    "cs_absorbt = interpolate_with_edge(absorbt, general_grid)"
   ]
  },
  {
   "cell_type": "code",
   "execution_count": 54,
   "id": "49fded5a",
   "metadata": {},
   "outputs": [],
   "source": [
    "cs_total_npy = np.array(cs_total)\n",
    "cs_absorbt_npy = np.array(cs_absorbt)\n",
    "genaral_grid_npy = np.array(general_grid)"
   ]
  },
  {
   "cell_type": "code",
   "execution_count": 55,
   "id": "2953644b",
   "metadata": {},
   "outputs": [],
   "source": [
    "CROSS_SECTION_PROCESSED = np.array([general_grid, cs_total_npy, cs_absorbt_npy], dtype=object)"
   ]
  },
  {
   "cell_type": "code",
   "execution_count": 43,
   "id": "f69cf559",
   "metadata": {},
   "outputs": [],
   "source": [
    "CROSS_SECTION_INIT = np.array([CS_init_mesh, CS_total, CS_absorbt], dtype=object)"
   ]
  },
  {
   "cell_type": "code",
   "execution_count": 56,
   "id": "8b0b0fa6",
   "metadata": {},
   "outputs": [],
   "source": [
    "np.save('CROSS_SECTION_PROCESSED_mesh_02.npy', CROSS_SECTION_PROCESSED)"
   ]
  },
  {
   "cell_type": "code",
   "execution_count": 44,
   "id": "041760b0",
   "metadata": {},
   "outputs": [],
   "source": [
    "np.save('CROSS_SECTION_INIT.npy', CROSS_SECTION_INIT)"
   ]
  },
  {
   "cell_type": "code",
   "execution_count": 37,
   "id": "effdb1af",
   "metadata": {},
   "outputs": [
    {
     "name": "stderr",
     "output_type": "stream",
     "text": [
      "C:\\Users\\danis\\AppData\\Local\\Temp\\ipykernel_22356\\3684777816.py:8: FutureWarning: save is not part of the public API, usage can give unexpected results and will be removed in a future version\n",
      "  writer.save()\n"
     ]
    }
   ],
   "source": [
    "writer = pd.ExcelWriter('01keV.xlsx')\n",
    "t = pd.DataFrame(cs_total)\n",
    "a = pd.DataFrame(cs_absorbt)\n",
    "g = pd.DataFrame(general_grid)\n",
    "t.to_excel(writer, 'TOTAL')\n",
    "a.to_excel(writer, 'ABSORBT')\n",
    "g.to_excel(writer, 'ENERGY')\n",
    "writer.save()\n",
    "writer.close()"
   ]
  }
 ],
 "metadata": {
  "kernelspec": {
   "display_name": "Python 3 (ipykernel)",
   "language": "python",
   "name": "python3"
  },
  "language_info": {
   "codemirror_mode": {
    "name": "ipython",
    "version": 3
   },
   "file_extension": ".py",
   "mimetype": "text/x-python",
   "name": "python",
   "nbconvert_exporter": "python",
   "pygments_lexer": "ipython3",
   "version": "3.10.5"
  }
 },
 "nbformat": 4,
 "nbformat_minor": 5
}
