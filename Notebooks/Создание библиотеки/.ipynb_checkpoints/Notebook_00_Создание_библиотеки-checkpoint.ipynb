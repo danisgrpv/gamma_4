{
 "cells": [
  {
   "cell_type": "code",
   "execution_count": 20,
   "id": "9a037226",
   "metadata": {},
   "outputs": [],
   "source": [
    "import sys"
   ]
  },
  {
   "cell_type": "code",
   "execution_count": 21,
   "id": "1d15c444",
   "metadata": {},
   "outputs": [],
   "source": [
    "LibraryPath = r\"/home/danis/work/python_works/gamma_4/\"\n",
    "sys.path.insert(0, LibraryPath)"
   ]
  },
  {
   "cell_type": "code",
   "execution_count": 26,
   "id": "59c0f968",
   "metadata": {},
   "outputs": [],
   "source": [
    "from SpectrumsMeasurementsLibrary.CrossSectionsLibrary.cross_sections_data import initial_total_cs, initial_meshs"
   ]
  },
  {
   "cell_type": "code",
   "execution_count": 32,
   "id": "af7ef120",
   "metadata": {},
   "outputs": [],
   "source": [
    "import numpy as np"
   ]
  },
  {
   "cell_type": "code",
   "execution_count": 33,
   "id": "8b847179",
   "metadata": {},
   "outputs": [],
   "source": [
    "def edge_to_dict_numpy_version(number, marker, cs='total'):                                 \n",
    "    \"\"\"                                                                      \n",
    "    Функция принимает номер элемента и маркер.\n",
    "    Возвращает значения сечения взаимодействия в скачках поглщения.\n",
    "    marker 'energy' - энергия, соответствующая скачкам\n",
    "    marker 'left' - значение скачку в пределе слева\n",
    "    marker 'right' - значение скачка в пределе справа\n",
    "    \n",
    "    cs 'total'  или 'absorbt' соответствует полному сечению или сечению передачи энергии\n",
    "    \"\"\"                                                                      \n",
    "                                                                             \n",
    "    # распаковка списка materials_list                                                                 \n",
    "    energy = initial_meshs[number]\n",
    "    if cs=='total':\n",
    "        cross_section = initial_total_cs[number]\n",
    "    if cs=='absorbt':\n",
    "        cross_section = initial_absorbt_cs[number]\n",
    "                                                                             \n",
    "    # списки, содержащие значения сечений слева и справа в точке разрыва     \n",
    "    left_k_cs, right_k_cs, k_energies = [], [], []                           \n",
    "                                                                             \n",
    "    for i, en in enumerate(energy):                                          \n",
    "        if np.isclose(energy[i - 1], energy[i], atol=1e-50):                 \n",
    "            right_k_cs.append(cross_section[i])                              \n",
    "            left_k_cs.append(cross_section[i - 1])                           \n",
    "            k_energies.append(en)                                            \n",
    "                                                                             \n",
    "    if marker == 'energy':                                                   \n",
    "        return k_energies                                                    \n",
    "    if marker == 'left':                                                     \n",
    "        return left_k_cs                                                     \n",
    "    if marker == 'right':                                                    \n",
    "        return right_k_cs                                                    "
   ]
  },
  {
   "cell_type": "code",
   "execution_count": 38,
   "id": "a11b5f1e",
   "metadata": {},
   "outputs": [],
   "source": [
    "a = edge_to_dict_numpy_version(50, 'energy')"
   ]
  },
  {
   "cell_type": "code",
   "execution_count": 39,
   "id": "250b32e0",
   "metadata": {},
   "outputs": [
    {
     "data": {
      "text/plain": [
       "[1.592e-05,\n",
       " 4.056e-05,\n",
       " 4.187e-05,\n",
       " 0.00010812,\n",
       " 0.00011702,\n",
       " 0.00015827,\n",
       " 0.00053785,\n",
       " 0.00054779,\n",
       " 0.00076169,\n",
       " 0.00080916,\n",
       " 0.00092898,\n",
       " 0.0041305,\n",
       " 0.004386,\n",
       " 0.0046737,\n",
       " 0.030479]"
      ]
     },
     "execution_count": 39,
     "metadata": {},
     "output_type": "execute_result"
    }
   ],
   "source": [
    "a"
   ]
  },
  {
   "cell_type": "code",
   "execution_count": 40,
   "id": "a154038b",
   "metadata": {},
   "outputs": [],
   "source": [
    "def k_en(self):\n",
    "    \"\"\"Значение энергии К-скачка\"\"\"\n",
    "    a = edge_to_dict(self.number, 'left', total)\n",
    "    b = list(a.keys())\n",
    "    return b[-1]\n",
    "\n",
    "def k_index(self):\n",
    "    \"\"\"Индекс К-скачка\"\"\"\n",
    "    en = self.en()['en'].tolist()\n",
    "    index = en.index(self.k_en())\n",
    "    return index"
   ]
  },
  {
   "cell_type": "code",
   "execution_count": null,
   "id": "8e69b936",
   "metadata": {},
   "outputs": [],
   "source": []
  }
 ],
 "metadata": {
  "kernelspec": {
   "display_name": "Python 3 (ipykernel)",
   "language": "python",
   "name": "python3"
  },
  "language_info": {
   "codemirror_mode": {
    "name": "ipython",
    "version": 3
   },
   "file_extension": ".py",
   "mimetype": "text/x-python",
   "name": "python",
   "nbconvert_exporter": "python",
   "pygments_lexer": "ipython3",
   "version": "3.10.8"
  }
 },
 "nbformat": 4,
 "nbformat_minor": 5
}
